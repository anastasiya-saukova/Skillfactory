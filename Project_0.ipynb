{
 "cells": [
  {
   "cell_type": "markdown",
   "metadata": {},
   "source": [
    "# Игра \"УГАДАЙ ЧИСЛО!\"\n",
    "\n",
    "## Компьютер загадывает целое число от 1 до 100. \n",
    "## Задача: написать программу, которая угадывает это число."
   ]
  },
  {
   "cell_type": "code",
   "execution_count": 4,
   "metadata": {},
   "outputs": [],
   "source": [
    "import numpy as np #вызов библиотеки с математическими функциями, в том числе функции random, возвращающей случайное число\n",
    "\n",
    "def score_game(game_core): #готовая функция из описания к проекту для посчитываия количества попыток угадывания числа\n",
    "    '''Запускаем игру 1000 раз, чтобы узнать, как быстро игра угадывает число'''\n",
    "    count_ls = []\n",
    "    np.random.seed(1)  # фиксируем RANDOM SEED, чтобы ваш эксперимент был воспроизводим\n",
    "    random_array = np.random.randint(1,101, size=(1000))\n",
    "    for number in random_array:\n",
    "        count_ls.append(game_core(number))\n",
    "    score = int(np.mean(count_ls))\n",
    "    print(f\"Ваш алгоритм угадывает число в среднем за {score} попыток\")\n",
    "    return(score)\n"
   ]
  },
  {
   "cell_type": "markdown",
   "metadata": {},
   "source": [
    "## Функция, которая угадывает число:"
   ]
  },
  {
   "cell_type": "code",
   "execution_count": 41,
   "metadata": {},
   "outputs": [],
   "source": [
    "def game_core(number):\n",
    "    count = 0 #счетчик попыток\n",
    "    '''Создаем список элементов от 0 до 100'''\n",
    "    list_ = [i for i in range(1,101)] \n",
    "     '''Устанавливаем границы'''\n",
    "    left = 0 \n",
    "    right = 100 \n",
    "    '''Реализуем алгоритм бинарного поиска'''\n",
    "    while right > left + 1: \n",
    "        count += 1\n",
    "        middle = (left+right) // 2\n",
    "        if number > list_[middle-1]:\n",
    "            left = middle\n",
    "        elif number < list_[middle-1]:\n",
    "            right = middle\n",
    "        else:\n",
    "            return(count) # выход из цикла, если угадали\n",
    "    return(count)"
   ]
  },
  {
   "cell_type": "code",
   "execution_count": 42,
   "metadata": {},
   "outputs": [
    {
     "name": "stdout",
     "output_type": "stream",
     "text": [
      "Ваш алгоритм угадывает число в среднем за 5 попыток\n"
     ]
    },
    {
     "data": {
      "text/plain": [
       "5"
      ]
     },
     "execution_count": 42,
     "metadata": {},
     "output_type": "execute_result"
    }
   ],
   "source": [
    "'''Проверка работы функции'''\n",
    "score_game(game_core)"
   ]
  }
 ],
 "metadata": {
  "kernelspec": {
   "display_name": "Python 3",
   "language": "python",
   "name": "python3"
  },
  "language_info": {
   "codemirror_mode": {
    "name": "ipython",
    "version": 3
   },
   "file_extension": ".py",
   "mimetype": "text/x-python",
   "name": "python",
   "nbconvert_exporter": "python",
   "pygments_lexer": "ipython3",
   "version": "3.7.1"
  }
 },
 "nbformat": 4,
 "nbformat_minor": 4
}
